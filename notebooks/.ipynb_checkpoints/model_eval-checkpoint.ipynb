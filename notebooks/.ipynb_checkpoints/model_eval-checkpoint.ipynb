{
 "cells": [
  {
   "cell_type": "markdown",
   "metadata": {},
   "source": [
    "Loading the models"
   ]
  },
  {
   "cell_type": "code",
   "execution_count": 1,
   "metadata": {},
   "outputs": [],
   "source": [
    "from joblib import load\n",
    "import pandas as pd\n",
    "import numpy as np\n",
    "import random\n",
    "from sklearn.model_selection import train_test_split\n",
    "from sklearn.metrics import mean_squared_error, r2_score\n",
    "import matplotlib.pyplot as plt\n",
    "from sklearn.inspection import permutation_importance\n",
    "\n",
    "#setting the random seed\n",
    "random_seed = 46\n",
    "np.random.seed(random_seed)\n",
    "random.seed(random_seed)\n",
    "\n",
    "jobs = -1 #this is the number of cores that the models and test will run on. -1 means that all cores will be used \n",
    "\n",
    "#loading in the models and datasets\n",
    "reg = load(\"models/lin_reg.joblib\")\n",
    "gbr_init = load(\"models/gbr_init.joblib\")\n",
    "gbr_imp = load(\"models/gbr_improved.joblib\")\n",
    "gbr_imp_2 = load(\"models/gbr_improved_2.joblib\")\n",
    "gbr_imp_3 = load(\"models/gbr_improved_3.joblib\")\n",
    "xtratree = load(\"models/xtra_tree.joblib\")\n",
    "randfor = load(\"models/rfr.joblib\")\n",
    "dectree = load(\"models/dec_tree.joblib\")\n",
    "\n",
    "\n",
    "dataset = pd.read_csv(\"data/model_dataset.csv\")\n",
    "master_dataset = pd.read_csv(\"data/master_dataset.csv\")\n",
    "master_dataset = master_dataset[master_dataset[\"cases_hrs\"] <= 300]\n",
    "master_dataset = master_dataset[master_dataset[\"Total_Hours\"] >= 10]\n",
    "\n",
    "\n",
    "models = []\n"
   ]
  },
  {
   "cell_type": "markdown",
   "metadata": {},
   "source": [
    "Model Evaluation"
   ]
  },
  {
   "cell_type": "code",
   "execution_count": 2,
   "metadata": {},
   "outputs": [
    {
     "name": "stderr",
     "output_type": "stream",
     "text": [
      "[Parallel(n_jobs=6)]: Using backend ThreadingBackend with 6 concurrent workers.\n",
      "[Parallel(n_jobs=6)]: Done  38 tasks      | elapsed:    0.1s\n",
      "[Parallel(n_jobs=6)]: Done 100 out of 100 | elapsed:    0.2s finished\n",
      "[Parallel(n_jobs=6)]: Using backend ThreadingBackend with 6 concurrent workers.\n",
      "[Parallel(n_jobs=6)]: Done  38 tasks      | elapsed:    0.1s\n",
      "[Parallel(n_jobs=6)]: Done 100 out of 100 | elapsed:    0.2s finished\n",
      "[Parallel(n_jobs=6)]: Using backend ThreadingBackend with 6 concurrent workers.\n",
      "[Parallel(n_jobs=6)]: Done  38 tasks      | elapsed:    0.1s\n",
      "[Parallel(n_jobs=6)]: Done 100 out of 100 | elapsed:    0.2s finished\n",
      "[Parallel(n_jobs=6)]: Using backend ThreadingBackend with 6 concurrent workers.\n",
      "[Parallel(n_jobs=6)]: Done  38 tasks      | elapsed:    0.1s\n",
      "[Parallel(n_jobs=6)]: Done 100 out of 100 | elapsed:    0.2s finished\n"
     ]
    }
   ],
   "source": [
    "#testing the models \n",
    "\n",
    "X_train, X_test, y_train, y_test = train_test_split(dataset.drop(labels=\"cases_hrs\", axis=1),dataset['cases_hrs'], random_state=random_seed, train_size = .70)\n",
    "\n",
    "X = X_test\n",
    "y = y_test\n",
    "\n",
    "#reg model\n",
    "reg_pred = reg.predict(X)\n",
    "models.append([\"Base Linear Regression\", mean_squared_error(reg_pred, y, squared=False), r2_score(reg_pred,y), reg.score(X, y)])\n",
    "\n",
    "#gbr1 model\n",
    "gbr_init_pred = gbr_init.predict(X)\n",
    "models.append([\"Base GBR\", mean_squared_error(gbr_init_pred, y, squared=False), r2_score(gbr_init_pred,y), gbr_init.score(X, y)])\n",
    "\n",
    "#improved gbr model\n",
    "gbr_imp_pred = gbr_imp.predict(X)\n",
    "models.append([\"Improved GBR\", mean_squared_error(gbr_imp_pred, y, squared=False), r2_score(gbr_imp_pred,y), gbr_imp.score(X, y)])\n",
    "\n",
    "#improved gbr model 2.0\n",
    "gbr_imp_2_pred = gbr_imp_2.predict(X)\n",
    "models.append([\"Improved GBR 2.0\", mean_squared_error(gbr_imp_2_pred, y, squared=False), r2_score(gbr_imp_2_pred,y), gbr_imp_2.score(X, y)])\n",
    "\n",
    "#improved gbr model 3.0\n",
    "gbr_imp_3_pred = gbr_imp_3.predict(X)\n",
    "models.append([\"Improved GBR 3.0\", mean_squared_error(gbr_imp_3_pred, y, squared=False), r2_score(gbr_imp_3_pred,y), gbr_imp_3.score(X, y)])\n",
    "\n",
    "#xtra tree model\n",
    "xtratree_pred = xtratree.predict(X)\n",
    "models.append([\"Xtra Tree\", mean_squared_error(xtratree_pred, y, squared=False), r2_score(xtratree_pred,y), xtratree.score(X, y)])\n",
    "\n",
    "#RFR model\n",
    "randfor_pred = randfor.predict(X)\n",
    "models.append([\"RFR\", mean_squared_error(randfor_pred, y, squared=False), r2_score(randfor_pred,y), randfor.score(X, y)])\n",
    "\n",
    "#Dec Tree model\n",
    "dectree_pred = dectree.predict(X)\n",
    "models.append([\"Decision Tree\", mean_squared_error(dectree_pred, y, squared=False), r2_score(dectree_pred,y), dectree.score(X, y)])\n"
   ]
  },
  {
   "cell_type": "markdown",
   "metadata": {},
   "source": [
    "Model Presentation"
   ]
  },
  {
   "cell_type": "code",
   "execution_count": 3,
   "metadata": {},
   "outputs": [
    {
     "data": {
      "text/html": [
       "<div>\n",
       "<style scoped>\n",
       "    .dataframe tbody tr th:only-of-type {\n",
       "        vertical-align: middle;\n",
       "    }\n",
       "\n",
       "    .dataframe tbody tr th {\n",
       "        vertical-align: top;\n",
       "    }\n",
       "\n",
       "    .dataframe thead th {\n",
       "        text-align: right;\n",
       "    }\n",
       "</style>\n",
       "<table border=\"1\" class=\"dataframe\">\n",
       "  <thead>\n",
       "    <tr style=\"text-align: right;\">\n",
       "      <th></th>\n",
       "      <th>Model</th>\n",
       "      <th>RMSE</th>\n",
       "      <th>R2</th>\n",
       "      <th>Model Score</th>\n",
       "    </tr>\n",
       "  </thead>\n",
       "  <tbody>\n",
       "    <tr>\n",
       "      <th>0</th>\n",
       "      <td>Base Linear Regression</td>\n",
       "      <td>58.240243</td>\n",
       "      <td>-15.643524</td>\n",
       "      <td>0.050883</td>\n",
       "    </tr>\n",
       "    <tr>\n",
       "      <th>1</th>\n",
       "      <td>Base GBR</td>\n",
       "      <td>55.515211</td>\n",
       "      <td>-7.114905</td>\n",
       "      <td>0.137622</td>\n",
       "    </tr>\n",
       "    <tr>\n",
       "      <th>2</th>\n",
       "      <td>Improved GBR</td>\n",
       "      <td>62.205108</td>\n",
       "      <td>-1.349119</td>\n",
       "      <td>-0.082743</td>\n",
       "    </tr>\n",
       "    <tr>\n",
       "      <th>3</th>\n",
       "      <td>Improved GBR 2.0</td>\n",
       "      <td>58.555427</td>\n",
       "      <td>-1.782726</td>\n",
       "      <td>0.040582</td>\n",
       "    </tr>\n",
       "    <tr>\n",
       "      <th>4</th>\n",
       "      <td>Improved GBR 3.0</td>\n",
       "      <td>56.330994</td>\n",
       "      <td>-2.375881</td>\n",
       "      <td>0.112091</td>\n",
       "    </tr>\n",
       "    <tr>\n",
       "      <th>5</th>\n",
       "      <td>Xtra Tree</td>\n",
       "      <td>58.676171</td>\n",
       "      <td>-2.148838</td>\n",
       "      <td>0.036621</td>\n",
       "    </tr>\n",
       "    <tr>\n",
       "      <th>6</th>\n",
       "      <td>RFR</td>\n",
       "      <td>57.315272</td>\n",
       "      <td>-2.657303</td>\n",
       "      <td>0.080791</td>\n",
       "    </tr>\n",
       "    <tr>\n",
       "      <th>7</th>\n",
       "      <td>Decision Tree</td>\n",
       "      <td>76.942249</td>\n",
       "      <td>-0.680967</td>\n",
       "      <td>-0.656545</td>\n",
       "    </tr>\n",
       "  </tbody>\n",
       "</table>\n",
       "</div>"
      ],
      "text/plain": [
       "                    Model       RMSE         R2  Model Score\n",
       "0  Base Linear Regression  58.240243 -15.643524     0.050883\n",
       "1                Base GBR  55.515211  -7.114905     0.137622\n",
       "2            Improved GBR  62.205108  -1.349119    -0.082743\n",
       "3        Improved GBR 2.0  58.555427  -1.782726     0.040582\n",
       "4        Improved GBR 3.0  56.330994  -2.375881     0.112091\n",
       "5               Xtra Tree  58.676171  -2.148838     0.036621\n",
       "6                     RFR  57.315272  -2.657303     0.080791\n",
       "7           Decision Tree  76.942249  -0.680967    -0.656545"
      ]
     },
     "execution_count": 3,
     "metadata": {},
     "output_type": "execute_result"
    }
   ],
   "source": [
    "#NOTE: I think model score and R2 are both supposed to be the same, but they give out different scores so idk\n",
    "models_pres = pd.DataFrame(models, columns=[\"Model\", \"RMSE\", \"R2\", \"Model Score\"])\n",
    "models_pres"
   ]
  },
  {
   "cell_type": "markdown",
   "metadata": {},
   "source": [
    "GBR 3.0 Feature Importnace & Permutation importance plot"
   ]
  },
  {
   "cell_type": "code",
   "execution_count": null,
   "metadata": {},
   "outputs": [],
   "source": [
    "#gbr 3 Feature importance / Permutation importance plot \n",
    "feature_importance = gbr_imp_3.steps[1][1].feature_importances_\n",
    "sorted_idx = np.argsort(feature_importance[:5])\n",
    "pos = np.arange(sorted_idx.shape[0]) + 0.5\n",
    "fig = plt.figure(figsize=(12, 6))\n",
    "plt.subplot(1, 2, 1)\n",
    "plt.barh(pos, feature_importance[sorted_idx], align=\"center\")\n",
    "plt.yticks(pos, np.array(X_train.columns)[sorted_idx])\n",
    "plt.title(\"Feature Importance (MDI)\")\n",
    "\n",
    "\n",
    "gbr_result = permutation_importance(\n",
    "    gbr_imp_3, X_test, y_test, n_repeats=5, random_state=random_seed, n_jobs=jobs\n",
    ")\n",
    "\n",
    "sorted_idx = gbr_result.importances_mean[:5].argsort()\n",
    "plt.subplot(1, 2, 2)\n",
    "plt.boxplot(\n",
    "    gbr_result.importances[sorted_idx].T,\n",
    "    vert=False,\n",
    "    labels=np.array(X_train.columns)[sorted_idx],\n",
    ")\n",
    "plt.title(\"Permutation Importance (test set)\")\n",
    "fig.tight_layout()\n",
    "plt.show()"
   ]
  },
  {
   "cell_type": "markdown",
   "metadata": {},
   "source": [
    "Xtratree Feature importance / Permutation importance plot"
   ]
  },
  {
   "cell_type": "code",
   "execution_count": null,
   "metadata": {},
   "outputs": [],
   "source": [
    "#Xtratree Feature importance / Permutation importance plot\n",
    "feature_importance = xtratree.steps[1][1].feature_importances_\n",
    "sorted_idx = np.argsort(feature_importance[:5])\n",
    "pos = np.arange(sorted_idx.shape[0]) + 0.5\n",
    "fig = plt.figure(figsize=(12, 6))\n",
    "plt.subplot(1, 2, 1)\n",
    "plt.barh(pos, feature_importance[sorted_idx], align=\"center\")\n",
    "plt.yticks(pos, np.array(X_train.columns)[sorted_idx])\n",
    "plt.title(\"Feature Importance (MDI)\")\n",
    "\n",
    "\n",
    "xtratree_result = permutation_importance(\n",
    "    xtratree, X_test, y_test, n_repeats=5, random_state=random_seed, n_jobs=jobs\n",
    ")\n",
    "\n",
    "sorted_idx = xtratree_result.importances_mean[:5].argsort()\n",
    "plt.subplot(1, 2, 2)\n",
    "plt.boxplot(\n",
    "    xtratree_result.importances[sorted_idx].T,\n",
    "    vert=False,\n",
    "    labels=np.array(X_train.columns)[sorted_idx],\n",
    ")\n",
    "plt.title(\"Permutation Importance (test set)\")\n",
    "fig.tight_layout()"
   ]
  },
  {
   "cell_type": "markdown",
   "metadata": {},
   "source": [
    "Random Forest Feature importance plot & Permutation Test"
   ]
  },
  {
   "cell_type": "code",
   "execution_count": null,
   "metadata": {},
   "outputs": [],
   "source": [
    "#Random Forest Feature importance plot \n",
    "feature_importance = randfor.steps[1][1].feature_importances_\n",
    "sorted_idx = np.argsort(feature_importance[:5])\n",
    "pos = np.arange(sorted_idx.shape[0]) + 0.5\n",
    "fig = plt.figure(figsize=(12, 6))\n",
    "plt.subplot(1, 2, 1)\n",
    "plt.barh(pos, feature_importance[sorted_idx], align=\"center\")\n",
    "plt.yticks(pos, np.array(X_train.columns)[sorted_idx])\n",
    "plt.title(\"Feature Importance (MDI)\")\n",
    "\n",
    "randfor_result = permutation_importance(\n",
    "    randfor, X_test, y_test, n_repeats=5, random_state=random_seed, n_jobs=jobs\n",
    ")\n",
    "\n",
    "sorted_idx = randfor_result.importances_mean[:5].argsort()\n",
    "plt.subplot(1, 2, 2)\n",
    "plt.boxplot(\n",
    "    randfor_result.importances[sorted_idx].T,\n",
    "    vert=False,\n",
    "    labels=np.array(X_train.columns)[sorted_idx],\n",
    ")\n",
    "plt.title(\"Permutation Importance (test set)\")\n",
    "fig.tight_layout()\n",
    "plt.show()"
   ]
  }
 ],
 "metadata": {
  "kernelspec": {
   "display_name": "Python 3 (ipykernel)",
   "language": "python",
   "name": "python3"
  },
  "language_info": {
   "codemirror_mode": {
    "name": "ipython",
    "version": 3
   },
   "file_extension": ".py",
   "mimetype": "text/x-python",
   "name": "python",
   "nbconvert_exporter": "python",
   "pygments_lexer": "ipython3",
   "version": "3.11.3"
  }
 },
 "nbformat": 4,
 "nbformat_minor": 4
}
